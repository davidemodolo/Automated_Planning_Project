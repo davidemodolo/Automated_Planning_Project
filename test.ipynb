{
 "cells": [
  {
   "cell_type": "code",
   "execution_count": 51,
   "metadata": {},
   "outputs": [],
   "source": [
    "import requests"
   ]
  },
  {
   "cell_type": "code",
   "execution_count": 52,
   "metadata": {},
   "outputs": [],
   "source": [
    "def resolveWithAPI(domain, problem):\n",
    "    data = {'domain': domain,\n",
    "            'problem': problem}\n",
    "\n",
    "    resp = requests.post('http://solver.planning.domains/solve',\n",
    "                         verify=False, json=data).json()\n",
    "    \n",
    "    return '\\n'.join([act['name'] for act in resp['result']['plan']])\n"
   ]
  },
  {
   "cell_type": "code",
   "execution_count": 53,
   "metadata": {},
   "outputs": [
    {
     "name": "stdout",
     "output_type": "stream",
     "text": [
      "(move_robot robot1 location1 location0)\n",
      "(take_box robot1 location0 box1)\n",
      "(fill_box robot1 location0 box1 medicine1)\n",
      "(move_robot robot1 location0 location3)\n",
      "(deliver robot1 location3 person2 medicine1 box1)\n",
      "(take_box robot1 location3 box1)\n",
      "(move_robot robot1 location3 location0)\n",
      "(fill_box robot1 location0 box1 food1)\n",
      "(move_robot robot1 location0 location3)\n",
      "(empty_box robot1 location3 box1 food1)\n",
      "(move_robot robot1 location3 location0)\n",
      "(fill_box robot1 location0 box1 tools1)\n",
      "(move_robot robot1 location0 location3)\n",
      "(deliver robot1 location3 person3 tools1 box1)\n",
      "(take_box robot1 location3 box1)\n",
      "(fill_box robot1 location3 box1 food1)\n",
      "(move_robot robot1 location3 location2)\n",
      "(deliver robot1 location2 person1 food1 box1)\n",
      "(take_box robot1 location2 box1)\n",
      "(move_robot robot1 location2 location0)\n",
      "(drop_box robot1 location0 box1)\n"
     ]
    }
   ],
   "source": [
    "domain = \"problem1/domain.pddl\"\n",
    "problem = \"problem1/problem.pddl\"\n",
    "\n",
    "domain = open(domain, 'r').read()\n",
    "problem = open(problem, 'r').read()\n",
    "\n",
    "print(resolveWithAPI(domain, problem))"
   ]
  },
  {
   "cell_type": "code",
   "execution_count": 54,
   "metadata": {},
   "outputs": [],
   "source": [
    "class Action():\n",
    "    def __init__(self, name, parameters, precondition, effect):\n",
    "        self.name = name\n",
    "        self.parameters = parameters # [(type, name), ...]\n",
    "        self.preconditions = precondition\n",
    "        self.effects = effect"
   ]
  },
  {
   "cell_type": "code",
   "execution_count": 55,
   "metadata": {},
   "outputs": [],
   "source": [
    "# create the domain file\n",
    "name = \"task1\"\n",
    "requirements = []\n",
    "# can be (type) or (type, subtype)\n",
    "types = []\n",
    "# {key: name, value: (type, name), (type, name), ...}, ....\n",
    "predicates = []\n",
    "\n",
    "actions = []"
   ]
  }
 ],
 "metadata": {
  "kernelspec": {
   "display_name": "Python 3",
   "language": "python",
   "name": "python3"
  },
  "language_info": {
   "codemirror_mode": {
    "name": "ipython",
    "version": 3
   },
   "file_extension": ".py",
   "mimetype": "text/x-python",
   "name": "python",
   "nbconvert_exporter": "python",
   "pygments_lexer": "ipython3",
   "version": "3.11.3"
  },
  "orig_nbformat": 4
 },
 "nbformat": 4,
 "nbformat_minor": 2
}
