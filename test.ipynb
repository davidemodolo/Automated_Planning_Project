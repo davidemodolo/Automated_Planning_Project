{
 "cells": [
  {
   "cell_type": "code",
   "execution_count": 61,
   "metadata": {},
   "outputs": [],
   "source": [
    "import requests\n",
    "import random\n",
    "# set random seed\n",
    "random.seed(0)"
   ]
  },
  {
   "cell_type": "code",
   "execution_count": 62,
   "metadata": {},
   "outputs": [],
   "source": [
    "def resolveWithAPI(domain, problem):\n",
    "        data = {'domain': domain,\n",
    "            'problem': problem}\n",
    "        resp = requests.post('http://solver.planning.domains/solve',\n",
    "                 verify=False, json=data).json()\n",
    "        return '\\n'.join([act['name'] for act in resp['result']['plan']])\n",
    "        # return '\\n'.join([act for act in resp['result']['plan']])\n"
   ]
  },
  {
   "cell_type": "code",
   "execution_count": 63,
   "metadata": {},
   "outputs": [],
   "source": [
    "domain = \"problem1/domain.pddl\"\n",
    "problem = \"problem1/problemTEST.pddl\"\n",
    "\n",
    "domain = open(domain, 'r').read()\n",
    "\n",
    "\n",
    "# open the problem file to write\n",
    "file = open(\"problem1/problemTEST.pddl\", \"w\")\n",
    "# set the print to be done in the file\n",
    "print(\"(define (problem problem1)\", file=file)\n",
    "print(\"(:domain problem1)\", file=file)"
   ]
  },
  {
   "cell_type": "code",
   "execution_count": 64,
   "metadata": {},
   "outputs": [],
   "source": [
    "number_of_locations = 4 # at location 0 there are the robots, the supplies and the boxes\n",
    "number_of_boxes = 4\n",
    "number_of_supplies = 5\n",
    "list_of_supplies = ['food', 'medicine', 'tools']\n",
    "number_of_people = 5\n",
    "number_of_robots = 2"
   ]
  },
  {
   "cell_type": "code",
   "execution_count": 65,
   "metadata": {},
   "outputs": [],
   "source": [
    "# objects\n",
    "print(f\"(:objects\", end=\"\\n\", file=file)\n",
    "# initialize the locations\n",
    "for i in range(number_of_locations): print(f\"location{i}\", end=\" \", file=file)\n",
    "print(\"- location\", end=\"\\n\", file=file)\n",
    "\n",
    "# initialize the boxes\n",
    "for i in range(number_of_boxes): print(f\"box{i}\", end=\" \", file=file)\n",
    "print(\"- box\", end=\"\\n\", file=file)\n",
    "\n",
    "types_of_supplies = {'food': 0, 'medicine': 0, 'tools': 0}\n",
    "total_list_of_supplies = []\n",
    "# initialize the supplies\n",
    "for i in range(number_of_supplies):\n",
    "    random_type = random.choice(list_of_supplies)\n",
    "    types_of_supplies[random_type] += 1\n",
    "\n",
    "for key, value in types_of_supplies.items():\n",
    "    if(value > 0):\n",
    "        for i in range(value):\n",
    "            print(f\"{key}{i}\", end=\" \", file=file)\n",
    "            total_list_of_supplies.append(f\"{key}{i}\")\n",
    "        print(f\"- {key}\", end=\"\\n\", file=file)\n",
    "\n",
    "# initialize the people\n",
    "for i in range(number_of_people): print(f\"person{i}\", end=\" \", file=file)\n",
    "print(\"- person\", end=\"\\n\", file=file)\n",
    "\n",
    "# initialize the robots\n",
    "for i in range(number_of_robots): print(f\"robot{i}\", end=\" \", file=file)\n",
    "print(\"- robotic_agent\", end=\"\\n\", file=file)\n",
    "\n",
    "print(\")\", end=\"\\n\", file=file)"
   ]
  },
  {
   "cell_type": "code",
   "execution_count": 66,
   "metadata": {},
   "outputs": [],
   "source": [
    "# initialize the initial state\n",
    "print(f\"(:init\", end=\"\\n\", file=file)\n",
    "\n",
    "# put every robot, box and supply in location0 (using location_robot, location_box, location_supply)\n",
    "for i in range(number_of_robots): print(f\"(location_robot robot{i} location0)\", end=\"\\n\", file=file)\n",
    "for i in range(number_of_boxes): print(f\"(location_box box{i} location0)\", end=\"\\n\", file=file)\n",
    "for key, value in types_of_supplies.items():\n",
    "    if(value > 0):\n",
    "        for i in range(value): print(f\"(location_supply {key}{i} location0)\", end=\"\\n\", file=file)\n",
    "        # total_list_of_supplies.append(f\"{key}{i}\")\n",
    "\n",
    "# put every person in a random location !=0 (using location_person)\n",
    "for i in range(number_of_people):\n",
    "    random_location = random.randint(1, number_of_locations-1)\n",
    "    print(f\"(location_person person{i} location{random_location})\", end=\"\\n\", file=file)\n",
    "\n",
    "# set every box as box_is_empty\n",
    "for i in range(number_of_boxes): print(f\"(box_is_empty box{i})\", end=\"\\n\", file=file)\n",
    "\n",
    "# set every robot with robot_has_no_box\n",
    "for i in range(number_of_robots): print(f\"(robot_has_no_box robot{i})\", end=\"\\n\", file=file)\n",
    "\n",
    "print(\")\", end=\"\\n\", file=file)\n"
   ]
  },
  {
   "cell_type": "code",
   "execution_count": 67,
   "metadata": {},
   "outputs": [],
   "source": [
    "# goal (most difficult part)\n",
    "print(f\"(:goal (and\", end=\"\\n\", file=file)\n",
    "for i in range(number_of_people):\n",
    "    random_supply = random.choice(total_list_of_supplies)\n",
    "    print(f\"(delivered person{i} {random_supply})\", end=\"\\n\", file=file)\n",
    "    # remove the supply from the list\n",
    "    total_list_of_supplies.remove(random_supply)\n",
    "\n",
    "# set all boxes as box_is_empty\n",
    "for i in range(number_of_boxes): print(f\"(box_is_empty box{i})\", end=\"\\n\", file=file)\n",
    "\n",
    "# set location of boxes and robot back to location0\n",
    "for i in range(number_of_boxes): print(f\"(location_box box{i} location0)\", end=\"\\n\", file=file)\n",
    "for i in range(number_of_robots): print(f\"(location_robot robot{i} location0)\", end=\"\\n\", file=file)\n",
    "\n",
    "print(\")\\n)\\n)\", end=\"\\n\", file=file)\n",
    "\n",
    "\n",
    "\n"
   ]
  },
  {
   "cell_type": "code",
   "execution_count": 68,
   "metadata": {},
   "outputs": [
    {
     "name": "stdout",
     "output_type": "stream",
     "text": [
      "(take_box robot1 location0 box3)\n",
      "(fill_box robot1 location0 box3 food0)\n",
      "(move_robot robot1 location0 location2)\n",
      "(deliver robot1 location2 person3 food0 box3)\n",
      "(move_robot robot1 location2 location0)\n",
      "(take_box robot0 location0 box1)\n",
      "(fill_box robot0 location0 box1 medicine0)\n",
      "(take_box robot1 location0 box2)\n",
      "(empty_box robot0 location0 box1 medicine0)\n",
      "(drop_box robot0 location0 box1)\n",
      "(fill_box robot1 location0 box2 medicine0)\n",
      "(move_robot robot1 location0 location2)\n",
      "(deliver robot1 location2 person1 medicine0 box2)\n",
      "(move_robot robot1 location2 location0)\n",
      "(move_robot robot0 location0 location2)\n",
      "(take_box robot0 location2 box3)\n",
      "(move_robot robot0 location2 location0)\n",
      "(fill_box robot0 location0 box3 medicine1)\n",
      "(move_robot robot0 location0 location2)\n",
      "(deliver robot0 location2 person4 medicine1 box3)\n",
      "(move_robot robot0 location2 location0)\n",
      "(move_robot robot1 location0 location2)\n",
      "(take_box robot1 location2 box2)\n",
      "(move_robot robot1 location2 location0)\n",
      "(drop_box robot1 location0 box2)\n",
      "(move_robot robot0 location0 location2)\n",
      "(take_box robot0 location2 box3)\n",
      "(move_robot robot0 location2 location0)\n",
      "(fill_box robot0 location0 box3 medicine2)\n",
      "(move_robot robot0 location0 location3)\n",
      "(empty_box robot0 location3 box3 medicine2)\n",
      "(move_robot robot0 location3 location0)\n",
      "(fill_box robot0 location0 box3 tools0)\n",
      "(move_robot robot0 location0 location2)\n",
      "(deliver robot0 location2 person0 tools0 box3)\n",
      "(take_box robot0 location2 box3)\n",
      "(move_robot robot0 location2 location3)\n",
      "(fill_box robot0 location3 box3 medicine2)\n",
      "(move_robot robot0 location3 location2)\n",
      "(move_robot robot1 location0 location3)\n",
      "(deliver robot0 location2 person2 medicine2 box3)\n",
      "(take_box robot0 location2 box3)\n",
      "(move_robot robot0 location2 location0)\n",
      "(drop_box robot0 location0 box3)\n",
      "(move_robot robot1 location3 location0)\n"
     ]
    }
   ],
   "source": [
    "problem = open(problem, 'r').read()\n",
    "\n",
    "print(resolveWithAPI(domain, problem))"
   ]
  }
 ],
 "metadata": {
  "kernelspec": {
   "display_name": "Python 3",
   "language": "python",
   "name": "python3"
  },
  "language_info": {
   "codemirror_mode": {
    "name": "ipython",
    "version": 3
   },
   "file_extension": ".py",
   "mimetype": "text/x-python",
   "name": "python",
   "nbconvert_exporter": "python",
   "pygments_lexer": "ipython3",
   "version": "3.11.3"
  },
  "orig_nbformat": 4
 },
 "nbformat": 4,
 "nbformat_minor": 2
}
